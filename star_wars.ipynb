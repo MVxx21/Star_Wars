{
 "cells": [
  {
   "cell_type": "markdown",
   "metadata": {},
   "source": [
    "<a id='intro'></a>"
   ]
  },
  {
   "cell_type": "markdown",
   "metadata": {},
   "source": [
    "## Project: STAR WARS"
   ]
  },
  {
   "cell_type": "markdown",
   "metadata": {},
   "source": [
    "This project was initially part of the Code Academy projects library, under the name \"*Visualizing the Orion Constellation*\". It focuses on 3D visualization. The first [3D visualization](#ca3d) was semi-guided by Code Academy.  \n",
    "  \n",
    "I decided to go beyond this initial scope and to propose a way to modelize the [Orion constellation in a *nicer* way](#my_orion) but also to find a way to modelize any constellation in 3d. This was my first work on 3d modelization and also with stars coordinates... hence the \"wars\" in the project name! I did not expect to see constellations so differently from what I can observe from my window.\n",
    "  \n",
    "There are many possible improvments to this notebook: to write a function creating coordinates based on star names, to accept declination and right ascension as the measures of stars locations, to improve the visualization features (zoom, dynamic names display, link between the stars of the constellation), to improve the background (nicer 'sky'), etc.  \n",
    "  \n",
    "  I will probably come back to it after finishing another SciFy book :)"
   ]
  },
  {
   "cell_type": "markdown",
   "metadata": {},
   "source": [
    "## Table of content\n",
    "[i. Intro](#intro)  \n",
    "[1. Import modules](#modules)  \n",
    "[2. Source and load data](#data)  \n",
    "[3. Code Academy 3D visualization](#ca3d)  \n",
    "[4. Personal 3D visualization](#perso3d)"
   ]
  },
  {
   "cell_type": "markdown",
   "metadata": {},
   "source": [
    "<a id='modules'></a>"
   ]
  },
  {
   "cell_type": "markdown",
   "metadata": {},
   "source": [
    "## 1. Import modules"
   ]
  },
  {
   "cell_type": "code",
   "execution_count": 1,
   "metadata": {},
   "outputs": [
    {
     "name": "stdout",
     "output_type": "stream",
     "text": [
      "Using matplotlib backend: Qt5Agg\n"
     ]
    }
   ],
   "source": [
    "# data manipulation\n",
    "import pandas as pd\n",
    "\n",
    "# visualization\n",
    "from matplotlib import pyplot as plt\n",
    "\n",
    "# allow to rotate figure in notebook\n",
    "%matplotlib\n",
    "\n",
    "# enable 3D visualization\n",
    "from mpl_toolkits.mplot3d import Axes3D"
   ]
  },
  {
   "cell_type": "markdown",
   "metadata": {},
   "source": [
    "<a id='data'></a>"
   ]
  },
  {
   "cell_type": "markdown",
   "metadata": {},
   "source": [
    "## 2. Source and load data"
   ]
  },
  {
   "cell_type": "markdown",
   "metadata": {},
   "source": [
    "### 2.1. Data provided by Code Academy"
   ]
  },
  {
   "cell_type": "markdown",
   "metadata": {},
   "source": [
    "\"*Astronomers describe a star's position in the sky by using a pair of angles: declination and right ascension. Declination is similar to longitude, but it is projected on the celestian fear. Right ascension is known as the \"hour angle\" because it accounts for time of day and earth's rotaiton. Both angles are relative to the celestial equator. You can learn more about star position [here](https://en.wikipedia.org/wiki/Star_position).*\"  \n",
    "\n",
    "([*Code Academy*](#https://www.codecademy.com/))"
   ]
  },
  {
   "cell_type": "markdown",
   "metadata": {},
   "source": [
    "Code Academy provided directly the The `x`, `y`, and `z` lists below which are composed of the x, y, z coordinates for each star in the collection of stars that make up the Orion constellation (as documented in a paper by Nottingham Trent Univesity on \"The Orion constellation as an installation\" found [here](https://arxiv.org/ftp/arxiv/papers/1110/1110.3469.pdf).)"
   ]
  },
  {
   "cell_type": "markdown",
   "metadata": {},
   "source": [
    "#### Orion constellation"
   ]
  },
  {
   "cell_type": "code",
   "execution_count": 2,
   "metadata": {
    "scrolled": true
   },
   "outputs": [],
   "source": [
    "x = [-0.41, 0.57, 0.07, 0.00, -0.29, -0.32,-0.50,-0.23, -0.23]\n",
    "y = [4.12, 7.71, 2.36, 9.10, 13.35, 8.13, 7.19, 13.25,13.43]\n",
    "z = [2.06, 0.84, 1.56, 2.07, 2.36, 1.72, 0.66, 1.25,1.38]"
   ]
  },
  {
   "cell_type": "markdown",
   "metadata": {},
   "source": [
    "Labelling the stars was the first addition I decided to make. Below is a list `stars_nm` which includes the names of the main stars used to modelize the constellation."
   ]
  },
  {
   "cell_type": "code",
   "execution_count": 3,
   "metadata": {},
   "outputs": [],
   "source": [
    "orion_nm = ['Alpha', 'Beta', 'Gamma', 'Delta', 'Epsilon', 'Zeta', 'Kappa', 'Iota', 'M42']"
   ]
  },
  {
   "cell_type": "markdown",
   "metadata": {},
   "source": [
    "### 2.2. Additional data, source on the web"
   ]
  },
  {
   "cell_type": "markdown",
   "metadata": {},
   "source": [
    "Since I wanted to be able to modelize more constellations, I started to look for a source offering x, y, z coordinates in priority (as I did not want to deal with the usual \"Declination\" and \"Right Ascension\" conversion. However I eventually also found the formulas to convert them, referenced for info later in the notebook).  \n",
    "  \n",
    "I luckily (*Luck??! After a loong research rather... ok, because I did not know initially how to search.*) found the great website [Astronexus](#http://www.astronexus.com/hyg) which have a lot of interesting information and host datasets about stars localization, names and other features! Content of the website is licensed by a [Creative Commons Attribution-ShareAlike license](#https://creativecommons.org/licenses/by-sa/2.5/). I removed some observations to simplify the storage of the file on Github."
   ]
  },
  {
   "cell_type": "markdown",
   "metadata": {},
   "source": [
    "#### Formulas to derive x, y, z coordinates from declination and right ascension"
   ]
  },
  {
   "cell_type": "markdown",
   "metadata": {},
   "source": [
    "$x = distance * cos( radians( declination)) * cos( radians( right  ascension * 15))$  \n",
    "$y = distance * cos( radians( declination)) * cos( radians( right  ascension * 15))$  \n",
    "$z = distance * sin( radians ( declination))$"
   ]
  },
  {
   "cell_type": "markdown",
   "metadata": {},
   "source": [
    "#### Import data"
   ]
  },
  {
   "cell_type": "code",
   "execution_count": 4,
   "metadata": {},
   "outputs": [],
   "source": [
    "stars = pd.read_csv('hygdata_v3_trimmed.csv')\n",
    "\n",
    "# limit the data to the needs of this project: names, x, y, z coodinates\n",
    "stars = stars[['proper', 'x', 'y', 'z']][stars.proper.notna()].reset_index(drop=True).rename(columns={'proper':'star'})"
   ]
  },
  {
   "cell_type": "code",
   "execution_count": 5,
   "metadata": {},
   "outputs": [
    {
     "data": {
      "text/html": [
       "<div>\n",
       "<style scoped>\n",
       "    .dataframe tbody tr th:only-of-type {\n",
       "        vertical-align: middle;\n",
       "    }\n",
       "\n",
       "    .dataframe tbody tr th {\n",
       "        vertical-align: top;\n",
       "    }\n",
       "\n",
       "    .dataframe thead th {\n",
       "        text-align: right;\n",
       "    }\n",
       "</style>\n",
       "<table border=\"1\" class=\"dataframe\">\n",
       "  <thead>\n",
       "    <tr style=\"text-align: right;\">\n",
       "      <th></th>\n",
       "      <th>star</th>\n",
       "      <th>x</th>\n",
       "      <th>y</th>\n",
       "      <th>z</th>\n",
       "    </tr>\n",
       "  </thead>\n",
       "  <tbody>\n",
       "    <tr>\n",
       "      <th>0</th>\n",
       "      <td>268 G. Cet</td>\n",
       "      <td>5.538462</td>\n",
       "      <td>4.488223</td>\n",
       "      <td>0.861013</td>\n",
       "    </tr>\n",
       "    <tr>\n",
       "      <th>1</th>\n",
       "      <td>82 G. Eri</td>\n",
       "      <td>2.839238</td>\n",
       "      <td>3.381499</td>\n",
       "      <td>-4.127499</td>\n",
       "    </tr>\n",
       "    <tr>\n",
       "      <th>2</th>\n",
       "      <td>96 G. Psc</td>\n",
       "      <td>7.258368</td>\n",
       "      <td>1.555495</td>\n",
       "      <td>0.686093</td>\n",
       "    </tr>\n",
       "    <tr>\n",
       "      <th>3</th>\n",
       "      <td>Acamar</td>\n",
       "      <td>26.857490</td>\n",
       "      <td>26.453029</td>\n",
       "      <td>-31.974932</td>\n",
       "    </tr>\n",
       "    <tr>\n",
       "      <th>4</th>\n",
       "      <td>Achernar</td>\n",
       "      <td>21.065573</td>\n",
       "      <td>9.568417</td>\n",
       "      <td>-35.951967</td>\n",
       "    </tr>\n",
       "  </tbody>\n",
       "</table>\n",
       "</div>"
      ],
      "text/plain": [
       "         star          x          y          z\n",
       "0  268 G. Cet   5.538462   4.488223   0.861013\n",
       "1   82 G. Eri   2.839238   3.381499  -4.127499\n",
       "2   96 G. Psc   7.258368   1.555495   0.686093\n",
       "3      Acamar  26.857490  26.453029 -31.974932\n",
       "4    Achernar  21.065573   9.568417 -35.951967"
      ]
     },
     "execution_count": 5,
     "metadata": {},
     "output_type": "execute_result"
    }
   ],
   "source": [
    "stars.head()"
   ]
  },
  {
   "cell_type": "code",
   "execution_count": 6,
   "metadata": {},
   "outputs": [
    {
     "name": "stdout",
     "output_type": "stream",
     "text": [
      "<class 'pandas.core.frame.DataFrame'>\n",
      "RangeIndex: 143 entries, 0 to 142\n",
      "Data columns (total 4 columns):\n",
      " #   Column  Non-Null Count  Dtype  \n",
      "---  ------  --------------  -----  \n",
      " 0   star    143 non-null    object \n",
      " 1   x       143 non-null    float64\n",
      " 2   y       143 non-null    float64\n",
      " 3   z       143 non-null    float64\n",
      "dtypes: float64(3), object(1)\n",
      "memory usage: 4.6+ KB\n"
     ]
    }
   ],
   "source": [
    "stars.info()"
   ]
  },
  {
   "cell_type": "markdown",
   "metadata": {},
   "source": [
    "<a id='ca3d'></a>"
   ]
  },
  {
   "cell_type": "markdown",
   "metadata": {},
   "source": [
    "## 3. Code Academy 3D visualization"
   ]
  },
  {
   "cell_type": "markdown",
   "metadata": {},
   "source": [
    "\"*Add your subplot with `.add_subplot()` as the single subplot `1,1,1` and specify your `projection` as `3d` : `fig_3d.add_subplot(1,1,1,projection=\"3d\")`).*  \n",
    " \n",
    "*Since this visualization will be in 3D, we will need our third dimension. In this case, our `z` coordinate. Create a new variable `constellation3d` and call the scatter function with your `x`, `y` and `z` coordinates. Include `z` just as you have been including the other two axes. (hint: `.scatter(x,y,z)`).*\"  \n",
    "  \n",
    "([*Code Academy*](#https://www.codecademy.com/))"
   ]
  },
  {
   "cell_type": "code",
   "execution_count": 7,
   "metadata": {},
   "outputs": [],
   "source": [
    "fig_3d = plt.figure()\n",
    "ax3d = fig_3d.add_subplot(1,1,1,projection='3d')\n",
    "constallation3d = ax3d.scatter(x, y, z, color = 'black', marker = '*', alpha=0.7)\n",
    "plt.show()"
   ]
  },
  {
   "cell_type": "markdown",
   "metadata": {},
   "source": [
    "<a id='perso3d'></a>"
   ]
  },
  {
   "cell_type": "markdown",
   "metadata": {},
   "source": [
    "## 4. Personal 3D Visualization\n"
   ]
  },
  {
   "cell_type": "markdown",
   "metadata": {},
   "source": [
    "#### Functions to modelize constellations"
   ]
  },
  {
   "cell_type": "code",
   "execution_count": 8,
   "metadata": {},
   "outputs": [],
   "source": [
    "def plot_constellation(x_list, y_list, z_list, labels_list, names=True,\n",
    "                      #linked=False\n",
    "                      ):\n",
    "    # create the figure and axis, precise it is on axis' (3D)\n",
    "    fig_3d = plt.figure()\n",
    "    ax3d = fig_3d.add_subplot(111, projection='3d')\n",
    "    \n",
    "    # linked argument is not implemented yet, but can be tested by uncommenting the argument and the loop below\n",
    "    \n",
    "    #if linked == False:\n",
    "        # plot the 'stars' on a scatter plot\n",
    "    ax3d.scatter(x_list, y_list, z_list, marker='o', color='white')\n",
    "    \n",
    "    #elif linked == True:\n",
    "        # plot the 'stars' on a scatter plot\n",
    "        # ax3d.plot(x_list, y_list, z_list, marker='o', color='white', linewidth=0.5, linestyle='-.')\n",
    "    \n",
    "    # set the background color of the figure and subplot to a night sky and remove the grids, to better observe the stars...\n",
    "    fig_3d.set_facecolor((.05, 0, .13))\n",
    "    ax3d.set_facecolor((.05, 0, .13))\n",
    "    ax3d.grid(False)\n",
    "    \n",
    "    # set the color of each pane of the 3D vis. to a night sky\n",
    "    ax3d.w_xaxis.set_pane_color((.05, 0, .13))\n",
    "    ax3d.w_yaxis.set_pane_color((.05, 0, .13))\n",
    "    ax3d.w_zaxis.set_pane_color((.05, 0, .13))\n",
    "    \n",
    "    # set the color of the ticks and x, y, z axis' to night sky\n",
    "    ax3d.tick_params(colors=(.05, 0, .13))\n",
    "    ax3d.w_xaxis.line.set_color((.05, 0, .13))\n",
    "    ax3d.w_yaxis.line.set_color((.05, 0, .13))\n",
    "    ax3d.w_zaxis.line.set_color((.05, 0, .13))\n",
    "    \n",
    "    if names == True:\n",
    "        # label the stars\n",
    "        for i in range(len(labels_list)):\n",
    "            ax3d.text((x_list[i] + .02), (y_list[i] + .02), (z_list[i] + .02), labels_list[i], color='white')\n",
    "        \n",
    "        plt.show()\n",
    "    \n",
    "    else:\n",
    "        plt.show()"
   ]
  },
  {
   "cell_type": "markdown",
   "metadata": {},
   "source": [
    "<a id='my_orion'></a>"
   ]
  },
  {
   "cell_type": "markdown",
   "metadata": {},
   "source": [
    "#### Orion constellation"
   ]
  },
  {
   "cell_type": "code",
   "execution_count": 9,
   "metadata": {},
   "outputs": [],
   "source": [
    "# data were already created previously\n",
    "orion_named = plot_constellation(x, y, z, orion_nm)\n",
    "orion_named"
   ]
  },
  {
   "cell_type": "markdown",
   "metadata": {},
   "source": [
    "<img src=\"https://upload.wikimedia.org/wikipedia/commons/9/91/Orion_constellation_with_star_labels.jpg\" alt=\"Orion\" style=\"width: 300px;\"/>"
   ]
  },
  {
   "cell_type": "markdown",
   "metadata": {},
   "source": [
    "#### Big diper from Great bear  constellation"
   ]
  },
  {
   "cell_type": "code",
   "execution_count": 10,
   "metadata": {},
   "outputs": [
    {
     "data": {
      "text/html": [
       "<div>\n",
       "<style scoped>\n",
       "    .dataframe tbody tr th:only-of-type {\n",
       "        vertical-align: middle;\n",
       "    }\n",
       "\n",
       "    .dataframe tbody tr th {\n",
       "        vertical-align: top;\n",
       "    }\n",
       "\n",
       "    .dataframe thead th {\n",
       "        text-align: right;\n",
       "    }\n",
       "</style>\n",
       "<table border=\"1\" class=\"dataframe\">\n",
       "  <thead>\n",
       "    <tr style=\"text-align: right;\">\n",
       "      <th></th>\n",
       "      <th>star</th>\n",
       "      <th>x</th>\n",
       "      <th>y</th>\n",
       "      <th>z</th>\n",
       "    </tr>\n",
       "  </thead>\n",
       "  <tbody>\n",
       "    <tr>\n",
       "      <th>18</th>\n",
       "      <td>Alioth</td>\n",
       "      <td>-13.775959</td>\n",
       "      <td>-3.309169</td>\n",
       "      <td>20.972944</td>\n",
       "    </tr>\n",
       "    <tr>\n",
       "      <th>19</th>\n",
       "      <td>Alkaid</td>\n",
       "      <td>-18.529548</td>\n",
       "      <td>-9.394541</td>\n",
       "      <td>24.164506</td>\n",
       "    </tr>\n",
       "    <tr>\n",
       "      <th>56</th>\n",
       "      <td>Dubhe</td>\n",
       "      <td>-17.298705</td>\n",
       "      <td>4.334880</td>\n",
       "      <td>33.191332</td>\n",
       "    </tr>\n",
       "    <tr>\n",
       "      <th>85</th>\n",
       "      <td>Megrez</td>\n",
       "      <td>-13.402309</td>\n",
       "      <td>-0.903455</td>\n",
       "      <td>20.710384</td>\n",
       "    </tr>\n",
       "    <tr>\n",
       "      <th>89</th>\n",
       "      <td>Merak</td>\n",
       "      <td>-13.103033</td>\n",
       "      <td>3.398358</td>\n",
       "      <td>20.360601</td>\n",
       "    </tr>\n",
       "    <tr>\n",
       "      <th>96</th>\n",
       "      <td>Mizar</td>\n",
       "      <td>-14.115808</td>\n",
       "      <td>-5.413302</td>\n",
       "      <td>21.531272</td>\n",
       "    </tr>\n",
       "    <tr>\n",
       "      <th>104</th>\n",
       "      <td>Phad</td>\n",
       "      <td>-15.094867</td>\n",
       "      <td>0.406425</td>\n",
       "      <td>20.552678</td>\n",
       "    </tr>\n",
       "  </tbody>\n",
       "</table>\n",
       "</div>"
      ],
      "text/plain": [
       "       star          x         y          z\n",
       "18   Alioth -13.775959 -3.309169  20.972944\n",
       "19   Alkaid -18.529548 -9.394541  24.164506\n",
       "56    Dubhe -17.298705  4.334880  33.191332\n",
       "85   Megrez -13.402309 -0.903455  20.710384\n",
       "89    Merak -13.103033  3.398358  20.360601\n",
       "96    Mizar -14.115808 -5.413302  21.531272\n",
       "104    Phad -15.094867  0.406425  20.552678"
      ]
     },
     "execution_count": 10,
     "metadata": {},
     "output_type": "execute_result"
    }
   ],
   "source": [
    "# create a subset of stars dataframe with the stars from the 'Big diper' of the Great bear\n",
    "gb = stars[stars.star.isin(['Merak','Dubhe','Megrez','Alioth','Mizar','Alkaid','Phad'])]\n",
    "\n",
    "# create the lists of coordinates and the list of name\n",
    "x_gb = list(gb.x)\n",
    "y_gb = list(gb.y)\n",
    "z_gb = list(gb.z)\n",
    "gb_nm = list(gb.star)\n",
    "gb"
   ]
  },
  {
   "cell_type": "code",
   "execution_count": 11,
   "metadata": {},
   "outputs": [],
   "source": [
    "greatbear_named = plot_constellation(x_gb, y_gb, z_gb, gb_nm)\n",
    "greatbear_named"
   ]
  },
  {
   "cell_type": "markdown",
   "metadata": {},
   "source": [
    "<img src=\"http://www.zodiacpage.com/wp-content/uploads/2019/06/Dipper-aurora_anno_edited-1-750x410.jpg\" alt=\"Ursa Major - big dipper\" style=\"width: 500px;\"/>"
   ]
  }
 ],
 "metadata": {
  "kernelspec": {
   "display_name": "Python 3",
   "language": "python",
   "name": "python3"
  },
  "language_info": {
   "codemirror_mode": {
    "name": "ipython",
    "version": 3
   },
   "file_extension": ".py",
   "mimetype": "text/x-python",
   "name": "python",
   "nbconvert_exporter": "python",
   "pygments_lexer": "ipython3",
   "version": "3.8.5"
  }
 },
 "nbformat": 4,
 "nbformat_minor": 2
}
